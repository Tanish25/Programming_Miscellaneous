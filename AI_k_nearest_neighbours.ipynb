{
  "nbformat": 4,
  "nbformat_minor": 0,
  "metadata": {
    "colab": {
      "name": "Tanish_H_Talapaneni.ipynb",
      "provenance": []
    },
    "kernelspec": {
      "name": "python3",
      "display_name": "Python 3"
    }
  },
  "cells": [
    {
      "cell_type": "code",
      "metadata": {
        "id": "y9ZSY4r9pnpP"
      },
      "source": [
        ""
      ],
      "execution_count": null,
      "outputs": []
    },
    {
      "cell_type": "markdown",
      "metadata": {
        "id": "DkvpL8BkpsAn"
      },
      "source": [
        "This is the project for the ShapeAI bootcamp..\r\n",
        "The aim of this project is to determine the species of a flower based on some measurements given..\r\n",
        "A basic ML model is being used here, with the concept of k-nearest neighbours. "
      ]
    },
    {
      "cell_type": "markdown",
      "metadata": {
        "id": "oKTf1YEdqVbS"
      },
      "source": [
        "Importing the important libraries required for this project..\r\n"
      ]
    },
    {
      "cell_type": "code",
      "metadata": {
        "id": "nFrhgwFpqpVP"
      },
      "source": [
        "import pandas as pd\r\n",
        "import numpy as np"
      ],
      "execution_count": 30,
      "outputs": []
    },
    {
      "cell_type": "markdown",
      "metadata": {
        "id": "UfwDue25rsL1"
      },
      "source": [
        "Now, I am importing the ML framework.."
      ]
    },
    {
      "cell_type": "code",
      "metadata": {
        "id": "ncSAnd6brz1o"
      },
      "source": [
        "from sklearn.datasets import load_iris\r\n",
        "iris_dataset = load_iris()"
      ],
      "execution_count": 5,
      "outputs": []
    },
    {
      "cell_type": "markdown",
      "metadata": {
        "id": "4jY1PARdsbG9"
      },
      "source": [
        "Printing the keys of the dataset.."
      ]
    },
    {
      "cell_type": "code",
      "metadata": {
        "colab": {
          "base_uri": "https://localhost:8080/"
        },
        "id": "_IfGZM_ctSOJ",
        "outputId": "4f6f2655-7797-4a0c-81ad-3ce9e24e431d"
      },
      "source": [
        "print(\"Keys of iris_dataset: \\n{}\".format(iris_dataset.keys()))\r\n"
      ],
      "execution_count": 7,
      "outputs": [
        {
          "output_type": "stream",
          "text": [
            "Keys of iris_dataset: \n",
            "dict_keys(['data', 'target', 'target_names', 'DESCR', 'feature_names', 'filename'])\n"
          ],
          "name": "stdout"
        }
      ]
    },
    {
      "cell_type": "markdown",
      "metadata": {
        "id": "IIxLim1XuLPY"
      },
      "source": [
        "DESCR is a key which stores a short description of the dataset.\r\n",
        "Printing a value of DESCR.."
      ]
    },
    {
      "cell_type": "code",
      "metadata": {
        "colab": {
          "base_uri": "https://localhost:8080/"
        },
        "id": "Un5iKwQZuZKs",
        "outputId": "d47cd52f-6262-4087-aa0a-2611cf25808b"
      },
      "source": [
        "print(iris_dataset['DESCR'][:192]+\"\\n....\")"
      ],
      "execution_count": 9,
      "outputs": [
        {
          "output_type": "stream",
          "text": [
            ".. _iris_dataset:\n",
            "\n",
            "Iris plants dataset\n",
            "--------------------\n",
            "\n",
            "**Data Set Characteristics:**\n",
            "\n",
            "    :Number of Instances: 150 (50 in each of three classes)\n",
            "    :Number of Attributes: 4 numeric, pr\n",
            "....\n"
          ],
          "name": "stdout"
        }
      ]
    },
    {
      "cell_type": "markdown",
      "metadata": {
        "id": "2NBHmAFfwNtW"
      },
      "source": [
        "target_names is the key which stores the specie-names of the flowers..\r\n",
        "i.e. 'setosa','versicolor','virginica'.....\r\n",
        "Printing target_names.. "
      ]
    },
    {
      "cell_type": "code",
      "metadata": {
        "colab": {
          "base_uri": "https://localhost:8080/"
        },
        "id": "DwArN6clwf2h",
        "outputId": "6152bcab-646b-43a7-fab7-2b5144babeab"
      },
      "source": [
        "print(\"Target Names: {}\".format(iris_dataset['target_names']))"
      ],
      "execution_count": 10,
      "outputs": [
        {
          "output_type": "stream",
          "text": [
            "Target Names: ['setosa' 'versicolor' 'virginica']\n"
          ],
          "name": "stdout"
        }
      ]
    },
    {
      "cell_type": "markdown",
      "metadata": {
        "id": "AedNCg0zxcAl"
      },
      "source": [
        "feature_names containing strings explaining features of the flower..\r\n",
        "Printing feature_names..."
      ]
    },
    {
      "cell_type": "code",
      "metadata": {
        "colab": {
          "base_uri": "https://localhost:8080/"
        },
        "id": "QHsn_tHRx254",
        "outputId": "581cddff-4acd-43fa-9fd8-373642c66745"
      },
      "source": [
        "print(\"Feature Names: \\n{}\".format(iris_dataset['feature_names']))"
      ],
      "execution_count": 11,
      "outputs": [
        {
          "output_type": "stream",
          "text": [
            "Feature Names: \n",
            "['sepal length (cm)', 'sepal width (cm)', 'petal length (cm)', 'petal width (cm)']\n"
          ],
          "name": "stdout"
        }
      ]
    },
    {
      "cell_type": "markdown",
      "metadata": {
        "id": "OQ4EJNCBymxh"
      },
      "source": [
        "Printing type of data"
      ]
    },
    {
      "cell_type": "code",
      "metadata": {
        "colab": {
          "base_uri": "https://localhost:8080/"
        },
        "id": "wTxnwCLGy7Wk",
        "outputId": "0acb829d-dc36-4cfd-fea0-bd7000e8b04c"
      },
      "source": [
        "print(\"Type of data:{}\".format(type(iris_dataset['data'])))"
      ],
      "execution_count": 12,
      "outputs": [
        {
          "output_type": "stream",
          "text": [
            "Type of data:<class 'numpy.ndarray'>\n"
          ],
          "name": "stdout"
        }
      ]
    },
    {
      "cell_type": "markdown",
      "metadata": {
        "id": "nhlrNZcmzhL4"
      },
      "source": [
        "Shape returns the number of rows and coloumns for a 2D array.\r\n",
        "Printing shape...."
      ]
    },
    {
      "cell_type": "code",
      "metadata": {
        "colab": {
          "base_uri": "https://localhost:8080/"
        },
        "id": "QvVLoU6ZzrHw",
        "outputId": "900b0eac-7517-4ec9-87c6-c2e3ae3aebfb"
      },
      "source": [
        "print(\"Shape of data:{}\".format(iris_dataset['data'].shape))"
      ],
      "execution_count": 13,
      "outputs": [
        {
          "output_type": "stream",
          "text": [
            "Shape of data:(150, 4)\n"
          ],
          "name": "stdout"
        }
      ]
    },
    {
      "cell_type": "markdown",
      "metadata": {
        "id": "RET7xWvNzzBd"
      },
      "source": [
        "Printing the first five rows of the nd-array using slicing operator.."
      ]
    },
    {
      "cell_type": "code",
      "metadata": {
        "colab": {
          "base_uri": "https://localhost:8080/"
        },
        "id": "WhMhfGnR0Gu7",
        "outputId": "527e3295-1618-4738-8c8c-74cf24645416"
      },
      "source": [
        "print(\"First five rows of data:\\n{}\".format(iris_dataset['data'][:5]))"
      ],
      "execution_count": 14,
      "outputs": [
        {
          "output_type": "stream",
          "text": [
            "First five rows of data:\n",
            "[[5.1 3.5 1.4 0.2]\n",
            " [4.9 3.  1.4 0.2]\n",
            " [4.7 3.2 1.3 0.2]\n",
            " [4.6 3.1 1.5 0.2]\n",
            " [5.  3.6 1.4 0.2]]\n"
          ],
          "name": "stdout"
        }
      ]
    },
    {
      "cell_type": "markdown",
      "metadata": {
        "id": "qo9cwXL80h86"
      },
      "source": [
        "Printing the type and shape of target..."
      ]
    },
    {
      "cell_type": "code",
      "metadata": {
        "colab": {
          "base_uri": "https://localhost:8080/"
        },
        "id": "llHK-MgX03A5",
        "outputId": "7647bdbd-d920-4511-de3b-ad7595249988"
      },
      "source": [
        "print(\"Type of target:{}\".format(type(iris_dataset['target'])))\r\n",
        "print(\"Shape of target:{}\".format(iris_dataset['target'].shape))"
      ],
      "execution_count": 15,
      "outputs": [
        {
          "output_type": "stream",
          "text": [
            "Type of target:<class 'numpy.ndarray'>\n",
            "Shape of target:(150,)\n"
          ],
          "name": "stdout"
        }
      ]
    },
    {
      "cell_type": "markdown",
      "metadata": {
        "id": "dyiWJomg12Mg"
      },
      "source": [
        "Now, printing the target.."
      ]
    },
    {
      "cell_type": "code",
      "metadata": {
        "colab": {
          "base_uri": "https://localhost:8080/"
        },
        "id": "YjQ8q0S41c1S",
        "outputId": "9758bee4-e805-4b71-cbd3-2193af9a4418"
      },
      "source": [
        "print(\"Target:\\n{}\".format(iris_dataset['target']))"
      ],
      "execution_count": 16,
      "outputs": [
        {
          "output_type": "stream",
          "text": [
            "Target:\n",
            "[0 0 0 0 0 0 0 0 0 0 0 0 0 0 0 0 0 0 0 0 0 0 0 0 0 0 0 0 0 0 0 0 0 0 0 0 0\n",
            " 0 0 0 0 0 0 0 0 0 0 0 0 0 1 1 1 1 1 1 1 1 1 1 1 1 1 1 1 1 1 1 1 1 1 1 1 1\n",
            " 1 1 1 1 1 1 1 1 1 1 1 1 1 1 1 1 1 1 1 1 1 1 1 1 1 1 2 2 2 2 2 2 2 2 2 2 2\n",
            " 2 2 2 2 2 2 2 2 2 2 2 2 2 2 2 2 2 2 2 2 2 2 2 2 2 2 2 2 2 2 2 2 2 2 2 2 2\n",
            " 2 2]\n"
          ],
          "name": "stdout"
        }
      ]
    },
    {
      "cell_type": "markdown",
      "metadata": {
        "id": "7d6Rvlzc3JWU"
      },
      "source": [
        "A function will be imported to split the rows and re-arrange them for better efficiency..\r\n",
        "It helps for training and testing data, in order to increase accuracy...\r\n",
        "Random state will be assigned to 0 "
      ]
    },
    {
      "cell_type": "code",
      "metadata": {
        "id": "Lzyqmg2V3xhb"
      },
      "source": [
        "from sklearn.model_selection import train_test_split\r\n",
        "X_train, X_test, y_train, y_test = train_test_split(iris_dataset['data'], iris_dataset['target'], random_state=0)"
      ],
      "execution_count": 18,
      "outputs": []
    },
    {
      "cell_type": "markdown",
      "metadata": {
        "id": "ZnhPXc606bV-"
      },
      "source": [
        "Printing the shape of the above defined data.."
      ]
    },
    {
      "cell_type": "code",
      "metadata": {
        "colab": {
          "base_uri": "https://localhost:8080/"
        },
        "id": "E8gYdlAE6r90",
        "outputId": "2bae652e-b511-4d3b-f692-60191a1e2286"
      },
      "source": [
        "print(\"X_train shape: {}\".format(X_train.shape))\r\n",
        "print(\"y_train shape: {}\".format(y_train.shape))\r\n",
        "print(\"X_test shape: {}\".format(X_test.shape))\r\n",
        "print(\"y_test shape: {}\".format(y_test.shape))"
      ],
      "execution_count": 19,
      "outputs": [
        {
          "output_type": "stream",
          "text": [
            "X_train shape: (112, 4)\n",
            "y_train shape: (112,)\n",
            "X_test shape: (38, 4)\n",
            "y_test shape: (38,)\n"
          ],
          "name": "stdout"
        }
      ]
    },
    {
      "cell_type": "markdown",
      "metadata": {
        "id": "VjvnuNsp6IPh"
      },
      "source": [
        "Now, the code for the ML model will begin..\r\n",
        "Concept being used- K-nearest neighbours..."
      ]
    },
    {
      "cell_type": "code",
      "metadata": {
        "id": "Y_8Tuwox7lxX"
      },
      "source": [
        "from sklearn.neighbors import KNeighborsClassifier"
      ],
      "execution_count": 20,
      "outputs": []
    },
    {
      "cell_type": "markdown",
      "metadata": {
        "id": "6buVz_4O71zK"
      },
      "source": [
        "Training the model on training data..."
      ]
    },
    {
      "cell_type": "code",
      "metadata": {
        "colab": {
          "base_uri": "https://localhost:8080/"
        },
        "id": "Lg7EKfSz7-fc",
        "outputId": "55043c21-1e4c-4881-e7c2-8a0a7cf40a6b"
      },
      "source": [
        "knn = KNeighborsClassifier(n_neighbors=1)\r\n",
        "knn.fit(X_train, y_train)"
      ],
      "execution_count": 24,
      "outputs": [
        {
          "output_type": "execute_result",
          "data": {
            "text/plain": [
              "KNeighborsClassifier(algorithm='auto', leaf_size=30, metric='minkowski',\n",
              "                     metric_params=None, n_jobs=None, n_neighbors=1, p=2,\n",
              "                     weights='uniform')"
            ]
          },
          "metadata": {
            "tags": []
          },
          "execution_count": 24
        }
      ]
    },
    {
      "cell_type": "markdown",
      "metadata": {
        "id": "Vq5k4kddBq0H"
      },
      "source": [
        "Start of making predictions.."
      ]
    },
    {
      "cell_type": "code",
      "metadata": {
        "colab": {
          "base_uri": "https://localhost:8080/"
        },
        "id": "p8TFoIyyBy3_",
        "outputId": "b337e9d9-9fdf-47bf-969d-f4abedeef7f4"
      },
      "source": [
        "X_new = np.array([[5, 2.9, 1, 0.2]])\r\n",
        "print(\"X_new.shape: {}\".format(X_new.shape))"
      ],
      "execution_count": 31,
      "outputs": [
        {
          "output_type": "stream",
          "text": [
            "X_new.shape: (1, 4)\n"
          ],
          "name": "stdout"
        }
      ]
    },
    {
      "cell_type": "markdown",
      "metadata": {
        "id": "JlSyyrtSD794"
      },
      "source": [
        "knn here is an object and I will make a prediction by calling predict method using knn object..."
      ]
    },
    {
      "cell_type": "code",
      "metadata": {
        "colab": {
          "base_uri": "https://localhost:8080/"
        },
        "id": "gZPxDg3dE7Of",
        "outputId": "b9d163f5-a7f9-4069-e5ce-4f0ec30f07cc"
      },
      "source": [
        "prediction = knn.predict(X_new)\r\n",
        "print(\"Prediction: {}\".format(prediction))\r\n",
        "print(\"Predictted target name: {}\".format(iris_dataset['target_names'][prediction]))"
      ],
      "execution_count": 32,
      "outputs": [
        {
          "output_type": "stream",
          "text": [
            "Prediction: [0]\n",
            "Predictted target name: ['setosa']\n"
          ],
          "name": "stdout"
        }
      ]
    },
    {
      "cell_type": "markdown",
      "metadata": {
        "id": "DL1dGX0sGU3c"
      },
      "source": [
        "Start of Evaluation of model...\r\n"
      ]
    },
    {
      "cell_type": "code",
      "metadata": {
        "colab": {
          "base_uri": "https://localhost:8080/"
        },
        "id": "oJ4CRKnQGsmu",
        "outputId": "617be5fe-65b0-484e-f761-7f2d4ad96e61"
      },
      "source": [
        "y_pred = knn.predict(X_test)\r\n",
        "print(\"Test set predictions:\\n {}\".format(y_pred))\r\n"
      ],
      "execution_count": 33,
      "outputs": [
        {
          "output_type": "stream",
          "text": [
            "Test set predictions:\n",
            " [2 1 0 2 0 2 0 1 1 1 2 1 1 1 1 0 1 1 0 0 2 1 0 0 2 0 0 1 1 0 2 1 0 2 2 1 0\n",
            " 2]\n"
          ],
          "name": "stdout"
        }
      ]
    },
    {
      "cell_type": "markdown",
      "metadata": {
        "id": "OYtM2oEVIkph"
      },
      "source": [
        "Depicting the accuracy of the model via mean..\r\n"
      ]
    },
    {
      "cell_type": "code",
      "metadata": {
        "colab": {
          "base_uri": "https://localhost:8080/"
        },
        "id": "3SaW8vL6IwO7",
        "outputId": "8fb56f34-9a2c-4b53-d445-d08a91a0fc6b"
      },
      "source": [
        "print(\"Test set score: {}\".format(np.mean(y_pred == y_test)))"
      ],
      "execution_count": 34,
      "outputs": [
        {
          "output_type": "stream",
          "text": [
            "Test set score: 0.9736842105263158\n"
          ],
          "name": "stdout"
        }
      ]
    },
    {
      "cell_type": "markdown",
      "metadata": {
        "id": "YK51BZsgJFy_"
      },
      "source": [
        "End of Project...\r\n",
        "Thank you ShapeAI for this wonderful bootcamp.."
      ]
    }
  ]
}